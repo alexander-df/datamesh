{
 "cells": [
  {
   "cell_type": "code",
   "execution_count": null,
   "id": "4e4944e0-88e4-4cb5-b536-d20ad29cbcff",
   "metadata": {},
   "outputs": [],
   "source": [
    "from datamesh import *"
   ]
  },
  {
   "cell_type": "code",
   "execution_count": null,
   "id": "096d04d5-3cb2-4359-803c-3fdac1daaaa4",
   "metadata": {},
   "outputs": [],
   "source": [
    "data_product = DataProduct(id=\"recommender.video\",\n",
    "                           inputs=[\"imbd.reviews#batch\",\n",
    "                                   \"goodreads.reviews#batch\",\n",
    "                                   \"alexa.queries#batch\",\n",
    "                                   \"store.orders#sql\"],\n",
    "                           outputs={\"batch\" : S3Bucket()})\n",
    "\n"
   ]
  },
  {
   "cell_type": "code",
   "execution_count": null,
   "id": "525379d8-6fc1-4162-b3ff-27e64b9dba7f",
   "metadata": {},
   "outputs": [],
   "source": []
  }
 ],
 "metadata": {
  "kernelspec": {
   "display_name": "Python 3 (ipykernel)",
   "language": "python",
   "name": "python3"
  },
  "language_info": {
   "codemirror_mode": {
    "name": "ipython",
    "version": 3
   },
   "file_extension": ".py",
   "mimetype": "text/x-python",
   "name": "python",
   "nbconvert_exporter": "python",
   "pygments_lexer": "ipython3",
   "version": "3.12.3"
  }
 },
 "nbformat": 4,
 "nbformat_minor": 5
}
